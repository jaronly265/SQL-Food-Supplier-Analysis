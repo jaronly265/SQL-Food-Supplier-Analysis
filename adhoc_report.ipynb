{
 "cells": [
  {
   "cell_type": "markdown",
   "id": "646c4e05",
   "metadata": {},
   "source": [
    "# Ad-Hoc Reporting\n",
    "\n",
    "Utilize your `sqlite3` and `pandas` knowledge to query your database and generate visualizations! \n",
    "\n",
    "After completing your report, answer the 4 analytical questions below. Remember that we expect comprehensive numerical detail! "
   ]
  },
  {
   "cell_type": "code",
   "execution_count": 136,
   "id": "bb47ec90",
   "metadata": {},
   "outputs": [],
   "source": [
    "import sqlite3\n",
    "\n",
    "import pandas as pd \n",
    "\n",
    "import seaborn as sns\n",
    "import matplotlib.pyplot as plt"
   ]
  },
  {
   "cell_type": "code",
   "execution_count": 137,
   "id": "c27a1dbe",
   "metadata": {},
   "outputs": [],
   "source": [
    "# TODO: Set up a connection the \"Market.db\" database\n",
    "conn = sqlite3.connect(\"db/Market.db\")\n",
    "\n",
    "# TODO: Set up the cursor\n",
    "cursor = conn.cursor()"
   ]
  },
  {
   "cell_type": "markdown",
   "id": "bdda1f0a",
   "metadata": {},
   "source": [
    "### Question 1 : Total Products Less than €10\n",
    "\n",
    "How many products in our Products table cost less than 10 EUR?\n",
    "\n",
    "**Hint**: You can apply an aggregate function to an entire table."
   ]
  },
  {
   "cell_type": "code",
   "execution_count": 138,
   "id": "736830a8",
   "metadata": {},
   "outputs": [
    {
     "name": "stdout",
     "output_type": "stream",
     "text": [
      "[('Konbu',), ('Teatime Chocolate Biscuits',), ('Tunnbröd',), ('Guaraná Fantástica',), ('Geitost',), (\"Jack's New England Clam Chowder\",), ('Røgede sild',), ('Zaanse koeken',), ('Filo Mix',), ('Tourtière',), ('Rhönbräu Klosterbier',)]\n"
     ]
    }
   ],
   "source": [
    "# TODO: Write a SQL query which will answer the question above.\n",
    "cursor.execute(\"\"\"\n",
    "    SELECT ProductName AS Prod\n",
    "    FROM Products\n",
    "    WHERE Price < 10\n",
    "\"\"\")\n",
    "\n",
    "rows = cursor.fetchall()\n",
    "print(rows)"
   ]
  },
  {
   "cell_type": "markdown",
   "id": "a12866fc",
   "metadata": {},
   "source": [
    "### Question 2 : Most Frequent Country by Supplier\n",
    "\n",
    "What is the most common country of origin in our Suppliers table? Sort your output in descending order.\n",
    "\n",
    "**Hint**: `GROUP BY` can be used to calculate grouped aggregates."
   ]
  },
  {
   "cell_type": "code",
   "execution_count": 139,
   "id": "1e03d56e",
   "metadata": {},
   "outputs": [
    {
     "name": "stdout",
     "output_type": "stream",
     "text": [
      "[('USA', 4), ('Germany', 3), ('France', 3), ('UK', 2), ('Sweden', 2), ('Japan', 2), ('Italy', 2), ('Canada', 2), ('Australia', 2), ('Spain', 1), ('Singapore', 1), ('Norway', 1), ('Netherlands', 1), ('Finland', 1), ('Denmark', 1), ('Brazil', 1)]\n"
     ]
    }
   ],
   "source": [
    "# TODO: Write a SQL query which will answer the question above.\n",
    "cursor.execute(\"\"\"\n",
    "    SELECT Country, COUNT() \n",
    "    FROM Suppliers\n",
    "    GROUP BY Country\n",
    "    ORDER BY COUNT(Country) DESC;\n",
    "\"\"\")\n",
    "\n",
    "# TODO: Fetch your list of tuples and print it out\n",
    "rows = cursor.fetchall()\n",
    "print(rows)"
   ]
  },
  {
   "cell_type": "code",
   "execution_count": 140,
   "id": "83f583d6",
   "metadata": {},
   "outputs": [
    {
     "ename": "TypeError",
     "evalue": "title() missing 1 required positional argument: 'label'",
     "output_type": "error",
     "traceback": [
      "\u001b[31m---------------------------------------------------------------------------\u001b[39m",
      "\u001b[31mTypeError\u001b[39m                                 Traceback (most recent call last)",
      "\u001b[36mCell\u001b[39m\u001b[36m \u001b[39m\u001b[32mIn[140]\u001b[39m\u001b[32m, line 10\u001b[39m\n\u001b[32m      8\u001b[39m plt.xlabel(\u001b[33m'\u001b[39m\u001b[33mCountry\u001b[39m\u001b[33m'\u001b[39m)\n\u001b[32m      9\u001b[39m plt.ylabel(\u001b[33m'\u001b[39m\u001b[33mOccurences\u001b[39m\u001b[33m'\u001b[39m)\n\u001b[32m---> \u001b[39m\u001b[32m10\u001b[39m \u001b[43mplt\u001b[49m\u001b[43m.\u001b[49m\u001b[43mtitle\u001b[49m\u001b[43m(\u001b[49m\u001b[43m)\u001b[49m\n",
      "\u001b[31mTypeError\u001b[39m: title() missing 1 required positional argument: 'label'"
     ]
    },
    {
     "data": {
      "image/png": "[encoded data removed]",
      "text/plain": [
       "<Figure size 640x480 with 1 Axes>"
      ]
     },
     "metadata": {},
     "output_type": "display_data"
    }
   ],
   "source": [
    "# TODO: Convert your list of tuples to a dataframe\n",
    "df = pd.DataFrame(rows)\n",
    "\n",
    "\n",
    "\n",
    "# TODO: Generate a visualization on this dataframe\n",
    "df.plot.bar()\n",
    "plt.xlabel('Country')\n",
    "plt.ylabel('Occurences')\n",
    "plt.title()"
   ]
  },
  {
   "cell_type": "markdown",
   "id": "ed35c985",
   "metadata": {},
   "source": [
    "### Question 3 : Most Frequent Country by Customer\n",
    "\n",
    "What is the most common country of origin in our Customers table? Sort your output in descending order.\n",
    "\n",
    "**Hint**: `GROUP BY` can be used to calculate grouped aggregates."
   ]
  },
  {
   "cell_type": "code",
   "execution_count": null,
   "id": "cc5f2ac6",
   "metadata": {},
   "outputs": [
    {
     "name": "stdout",
     "output_type": "stream",
     "text": [
      "[('USA', 13), ('Germany', 11), ('France', 11), ('Brazil', 9), ('UK', 7), ('Spain', 5), ('Mexico', 5), ('Venezuela', 4), ('Italy', 3), ('Canada', 3), ('Argentina', 3), ('Switzerland', 2), ('Sweden', 2), ('Portugal', 2), ('Finland', 2), ('Denmark', 2), ('Belgium', 2), ('Austria', 2), ('Poland', 1), ('Norway', 1), ('Ireland', 1)]\n"
     ]
    }
   ],
   "source": [
    "# TODO: Write a SQL query which will answer the question above.\n",
    "cursor.execute(\"\"\"\n",
    "    SELECT Country, COUNT()\n",
    "    FROM Customers\n",
    "    GROUP BY Country\n",
    "    ORDER BY COUNT(Country) DESC           \n",
    "\"\"\")\n",
    "\n",
    "\n",
    "# TODO: Fetch your list of tuples and print it out\n",
    "customer_loc = cursor.fetchall()\n",
    "print(customer_loc)\n"
   ]
  },
  {
   "cell_type": "code",
   "execution_count": null,
   "id": "b277ab0d",
   "metadata": {},
   "outputs": [
    {
     "data": {
      "text/plain": [
       "Text(0.5, 1.0, 'Most common customers by country')"
      ]
     },
     "execution_count": 82,
     "metadata": {},
     "output_type": "execute_result"
    },
    {
     "data": {
      "image/png": "[encoded data removed]",
      "text/plain": [
       "<Figure size 640x480 with 1 Axes>"
      ]
     },
     "metadata": {},
     "output_type": "display_data"
    }
   ],
   "source": [
    "# TODO: Convert your list of tuples to a dataframe\n",
    "df1 = pd.DataFrame(customer_loc, columns= ['country', 'Count'])\n",
    "df1.head()\n",
    "# TODO: Generate a visualization on this dataframe\n",
    "df1.plot.bar()\n",
    "plt.xlabel('Country')\n",
    "plt.ylabel('Frequency of orders')\n",
    "plt.title('Most common customers by country')"
   ]
  },
  {
   "cell_type": "markdown",
   "id": "6ff142e3",
   "metadata": {},
   "source": [
    "### Question 4 : Least Popular Products by Quantity\n",
    "\n",
    "What are the least popular products by order quantity? Limit your output to the bottom 20 products. Sort this table in ascending order and be sure to include the product name in your output and visualizations.\n",
    "\n",
    "**Hint**: You will have to perform a join to calculate this answer."
   ]
  },
  {
   "cell_type": "code",
   "execution_count": null,
   "id": "0d6d187c",
   "metadata": {},
   "outputs": [
    {
     "name": "stdout",
     "output_type": "stream",
     "text": [
      "[('Gravad lax', 1), ('Teatime Chocolate Biscuits', 1), ('Gudbrandsdalsost', 1), ('Gnocchi di nonna Alice', 2), ('Ravioli Angelo', 2), ('Manjimup Dried Apples', 2), ('Fløtemysost', 2), ('Singaporean Hokkien Fried Mee', 2), ('Boston Crab Meat', 2), ('Alice Mutton', 2), ('Spegesild', 2), ('Konbu', 2), ('Gumbär Gummibärchen', 2), ('Mozzarella di Giovanni', 3), ('Scottish Longbreads', 3), ('Scottish Longbreads', 3), ('Fløtemysost', 3), ('Mozzarella di Giovanni', 4), ('Steeleye Stout', 4), ('Gnocchi di nonna Alice', 4), ('Rössle Sauerkraut', 4), ('NuNuCa Nuß-Nougat-Creme', 4), ('Chartreuse verte', 4), ('Gorgonzola Telino', 4), ('Scottish Longbreads', 4), ('Boston Crab Meat', 4), ('Thüringer Rostbratwurst', 4), ('Teatime Chocolate Biscuits', 4)]\n"
     ]
    }
   ],
   "source": [
    "# TODO: Write a SQL query which will answer the question above.\n",
    "cursor.execute(\"\"\"\n",
    "SELECT ProductName, Quantity\n",
    "FROM Products AS Prod\n",
    "INNER JOIN OrderDetails AS OD\n",
    "ON Prod.ProductID = OD.ProductID\n",
    "WHERE Quantity <= 4\n",
    "ORDER BY Quantity ASC\n",
    " \"\"\");\n",
    "\n",
    "\n",
    "\n",
    "# TODO: Fetch your list of tuples and print it out\n",
    "Worse_prod= cursor.fetchall()\n",
    "print(Worse_prod)"
   ]
  },
  {
   "cell_type": "code",
   "execution_count": 141,
   "id": "dea03e07",
   "metadata": {},
   "outputs": [
    {
     "data": {
      "text/html": [
       "<div>\n",
       "<style scoped>\n",
       "    .dataframe tbody tr th:only-of-type {\n",
       "        vertical-align: middle;\n",
       "    }\n",
       "\n",
       "    .dataframe tbody tr th {\n",
       "        vertical-align: top;\n",
       "    }\n",
       "\n",
       "    .dataframe thead th {\n",
       "        text-align: right;\n",
       "    }\n",
       "</style>\n",
       "<table border=\"1\" class=\"dataframe\">\n",
       "  <thead>\n",
       "    <tr style=\"text-align: right;\">\n",
       "      <th></th>\n",
       "      <th>ProductName</th>\n",
       "      <th>Quantity</th>\n",
       "    </tr>\n",
       "  </thead>\n",
       "  <tbody>\n",
       "    <tr>\n",
       "      <th>0</th>\n",
       "      <td>Gravad lax</td>\n",
       "      <td>1</td>\n",
       "    </tr>\n",
       "    <tr>\n",
       "      <th>1</th>\n",
       "      <td>Teatime Chocolate Biscuits</td>\n",
       "      <td>1</td>\n",
       "    </tr>\n",
       "    <tr>\n",
       "      <th>2</th>\n",
       "      <td>Gudbrandsdalsost</td>\n",
       "      <td>1</td>\n",
       "    </tr>\n",
       "    <tr>\n",
       "      <th>3</th>\n",
       "      <td>Gnocchi di nonna Alice</td>\n",
       "      <td>2</td>\n",
       "    </tr>\n",
       "    <tr>\n",
       "      <th>4</th>\n",
       "      <td>Ravioli Angelo</td>\n",
       "      <td>2</td>\n",
       "    </tr>\n",
       "    <tr>\n",
       "      <th>5</th>\n",
       "      <td>Manjimup Dried Apples</td>\n",
       "      <td>2</td>\n",
       "    </tr>\n",
       "    <tr>\n",
       "      <th>6</th>\n",
       "      <td>Fløtemysost</td>\n",
       "      <td>2</td>\n",
       "    </tr>\n",
       "    <tr>\n",
       "      <th>7</th>\n",
       "      <td>Singaporean Hokkien Fried Mee</td>\n",
       "      <td>2</td>\n",
       "    </tr>\n",
       "    <tr>\n",
       "      <th>8</th>\n",
       "      <td>Boston Crab Meat</td>\n",
       "      <td>2</td>\n",
       "    </tr>\n",
       "    <tr>\n",
       "      <th>9</th>\n",
       "      <td>Alice Mutton</td>\n",
       "      <td>2</td>\n",
       "    </tr>\n",
       "    <tr>\n",
       "      <th>10</th>\n",
       "      <td>Spegesild</td>\n",
       "      <td>2</td>\n",
       "    </tr>\n",
       "    <tr>\n",
       "      <th>11</th>\n",
       "      <td>Konbu</td>\n",
       "      <td>2</td>\n",
       "    </tr>\n",
       "    <tr>\n",
       "      <th>12</th>\n",
       "      <td>Gumbär Gummibärchen</td>\n",
       "      <td>2</td>\n",
       "    </tr>\n",
       "    <tr>\n",
       "      <th>13</th>\n",
       "      <td>Mozzarella di Giovanni</td>\n",
       "      <td>3</td>\n",
       "    </tr>\n",
       "    <tr>\n",
       "      <th>14</th>\n",
       "      <td>Scottish Longbreads</td>\n",
       "      <td>3</td>\n",
       "    </tr>\n",
       "    <tr>\n",
       "      <th>15</th>\n",
       "      <td>Scottish Longbreads</td>\n",
       "      <td>3</td>\n",
       "    </tr>\n",
       "    <tr>\n",
       "      <th>16</th>\n",
       "      <td>Fløtemysost</td>\n",
       "      <td>3</td>\n",
       "    </tr>\n",
       "    <tr>\n",
       "      <th>17</th>\n",
       "      <td>Mozzarella di Giovanni</td>\n",
       "      <td>4</td>\n",
       "    </tr>\n",
       "    <tr>\n",
       "      <th>18</th>\n",
       "      <td>Steeleye Stout</td>\n",
       "      <td>4</td>\n",
       "    </tr>\n",
       "    <tr>\n",
       "      <th>19</th>\n",
       "      <td>Gnocchi di nonna Alice</td>\n",
       "      <td>4</td>\n",
       "    </tr>\n",
       "    <tr>\n",
       "      <th>20</th>\n",
       "      <td>Rössle Sauerkraut</td>\n",
       "      <td>4</td>\n",
       "    </tr>\n",
       "    <tr>\n",
       "      <th>21</th>\n",
       "      <td>NuNuCa Nuß-Nougat-Creme</td>\n",
       "      <td>4</td>\n",
       "    </tr>\n",
       "    <tr>\n",
       "      <th>22</th>\n",
       "      <td>Chartreuse verte</td>\n",
       "      <td>4</td>\n",
       "    </tr>\n",
       "    <tr>\n",
       "      <th>23</th>\n",
       "      <td>Gorgonzola Telino</td>\n",
       "      <td>4</td>\n",
       "    </tr>\n",
       "    <tr>\n",
       "      <th>24</th>\n",
       "      <td>Scottish Longbreads</td>\n",
       "      <td>4</td>\n",
       "    </tr>\n",
       "    <tr>\n",
       "      <th>25</th>\n",
       "      <td>Boston Crab Meat</td>\n",
       "      <td>4</td>\n",
       "    </tr>\n",
       "    <tr>\n",
       "      <th>26</th>\n",
       "      <td>Thüringer Rostbratwurst</td>\n",
       "      <td>4</td>\n",
       "    </tr>\n",
       "    <tr>\n",
       "      <th>27</th>\n",
       "      <td>Teatime Chocolate Biscuits</td>\n",
       "      <td>4</td>\n",
       "    </tr>\n",
       "  </tbody>\n",
       "</table>\n",
       "</div>"
      ],
      "text/plain": [
       "                      ProductName  Quantity\n",
       "0                      Gravad lax         1\n",
       "1      Teatime Chocolate Biscuits         1\n",
       "2                Gudbrandsdalsost         1\n",
       "3          Gnocchi di nonna Alice         2\n",
       "4                  Ravioli Angelo         2\n",
       "5           Manjimup Dried Apples         2\n",
       "6                     Fløtemysost         2\n",
       "7   Singaporean Hokkien Fried Mee         2\n",
       "8                Boston Crab Meat         2\n",
       "9                    Alice Mutton         2\n",
       "10                      Spegesild         2\n",
       "11                          Konbu         2\n",
       "12            Gumbär Gummibärchen         2\n",
       "13         Mozzarella di Giovanni         3\n",
       "14            Scottish Longbreads         3\n",
       "15            Scottish Longbreads         3\n",
       "16                    Fløtemysost         3\n",
       "17         Mozzarella di Giovanni         4\n",
       "18                 Steeleye Stout         4\n",
       "19         Gnocchi di nonna Alice         4\n",
       "20              Rössle Sauerkraut         4\n",
       "21        NuNuCa Nuß-Nougat-Creme         4\n",
       "22               Chartreuse verte         4\n",
       "23              Gorgonzola Telino         4\n",
       "24            Scottish Longbreads         4\n",
       "25               Boston Crab Meat         4\n",
       "26        Thüringer Rostbratwurst         4\n",
       "27     Teatime Chocolate Biscuits         4"
      ]
     },
     "execution_count": 141,
     "metadata": {},
     "output_type": "execute_result"
    }
   ],
   "source": [
    "# TODO: Convert your list of tuples to a dataframe\n",
    "df2 = pd.DataFrame(Worse_prod, columns=['ProductName', 'Quantity'])\n",
    "\n",
    "df2 \n"
   ]
  },
  {
   "cell_type": "code",
   "execution_count": 142,
   "id": "6f6a33a2",
   "metadata": {},
   "outputs": [
    {
     "data": {
      "text/html": [
       "<div>\n",
       "<style scoped>\n",
       "    .dataframe tbody tr th:only-of-type {\n",
       "        vertical-align: middle;\n",
       "    }\n",
       "\n",
       "    .dataframe tbody tr th {\n",
       "        vertical-align: top;\n",
       "    }\n",
       "\n",
       "    .dataframe thead th {\n",
       "        text-align: right;\n",
       "    }\n",
       "</style>\n",
       "<table border=\"1\" class=\"dataframe\">\n",
       "  <thead>\n",
       "    <tr style=\"text-align: right;\">\n",
       "      <th></th>\n",
       "      <th>ProductName</th>\n",
       "      <th>Quantity</th>\n",
       "    </tr>\n",
       "  </thead>\n",
       "  <tbody>\n",
       "    <tr>\n",
       "      <th>0</th>\n",
       "      <td>Gravad lax</td>\n",
       "      <td>1</td>\n",
       "    </tr>\n",
       "    <tr>\n",
       "      <th>1</th>\n",
       "      <td>Teatime Chocolate Biscuits</td>\n",
       "      <td>1</td>\n",
       "    </tr>\n",
       "    <tr>\n",
       "      <th>2</th>\n",
       "      <td>Gudbrandsdalsost</td>\n",
       "      <td>1</td>\n",
       "    </tr>\n",
       "    <tr>\n",
       "      <th>3</th>\n",
       "      <td>Gnocchi di nonna Alice</td>\n",
       "      <td>2</td>\n",
       "    </tr>\n",
       "    <tr>\n",
       "      <th>4</th>\n",
       "      <td>Ravioli Angelo</td>\n",
       "      <td>2</td>\n",
       "    </tr>\n",
       "    <tr>\n",
       "      <th>5</th>\n",
       "      <td>Manjimup Dried Apples</td>\n",
       "      <td>2</td>\n",
       "    </tr>\n",
       "    <tr>\n",
       "      <th>6</th>\n",
       "      <td>Fløtemysost</td>\n",
       "      <td>2</td>\n",
       "    </tr>\n",
       "    <tr>\n",
       "      <th>7</th>\n",
       "      <td>Singaporean Hokkien Fried Mee</td>\n",
       "      <td>2</td>\n",
       "    </tr>\n",
       "    <tr>\n",
       "      <th>8</th>\n",
       "      <td>Boston Crab Meat</td>\n",
       "      <td>2</td>\n",
       "    </tr>\n",
       "    <tr>\n",
       "      <th>9</th>\n",
       "      <td>Alice Mutton</td>\n",
       "      <td>2</td>\n",
       "    </tr>\n",
       "    <tr>\n",
       "      <th>10</th>\n",
       "      <td>Spegesild</td>\n",
       "      <td>2</td>\n",
       "    </tr>\n",
       "    <tr>\n",
       "      <th>11</th>\n",
       "      <td>Konbu</td>\n",
       "      <td>2</td>\n",
       "    </tr>\n",
       "    <tr>\n",
       "      <th>12</th>\n",
       "      <td>Gumbär Gummibärchen</td>\n",
       "      <td>2</td>\n",
       "    </tr>\n",
       "    <tr>\n",
       "      <th>13</th>\n",
       "      <td>Mozzarella di Giovanni</td>\n",
       "      <td>3</td>\n",
       "    </tr>\n",
       "    <tr>\n",
       "      <th>14</th>\n",
       "      <td>Scottish Longbreads</td>\n",
       "      <td>3</td>\n",
       "    </tr>\n",
       "    <tr>\n",
       "      <th>15</th>\n",
       "      <td>Scottish Longbreads</td>\n",
       "      <td>3</td>\n",
       "    </tr>\n",
       "    <tr>\n",
       "      <th>16</th>\n",
       "      <td>Fløtemysost</td>\n",
       "      <td>3</td>\n",
       "    </tr>\n",
       "    <tr>\n",
       "      <th>17</th>\n",
       "      <td>Mozzarella di Giovanni</td>\n",
       "      <td>4</td>\n",
       "    </tr>\n",
       "    <tr>\n",
       "      <th>18</th>\n",
       "      <td>Steeleye Stout</td>\n",
       "      <td>4</td>\n",
       "    </tr>\n",
       "    <tr>\n",
       "      <th>19</th>\n",
       "      <td>Gnocchi di nonna Alice</td>\n",
       "      <td>4</td>\n",
       "    </tr>\n",
       "    <tr>\n",
       "      <th>20</th>\n",
       "      <td>Rössle Sauerkraut</td>\n",
       "      <td>4</td>\n",
       "    </tr>\n",
       "  </tbody>\n",
       "</table>\n",
       "</div>"
      ],
      "text/plain": [
       "                      ProductName  Quantity\n",
       "0                      Gravad lax         1\n",
       "1      Teatime Chocolate Biscuits         1\n",
       "2                Gudbrandsdalsost         1\n",
       "3          Gnocchi di nonna Alice         2\n",
       "4                  Ravioli Angelo         2\n",
       "5           Manjimup Dried Apples         2\n",
       "6                     Fløtemysost         2\n",
       "7   Singaporean Hokkien Fried Mee         2\n",
       "8                Boston Crab Meat         2\n",
       "9                    Alice Mutton         2\n",
       "10                      Spegesild         2\n",
       "11                          Konbu         2\n",
       "12            Gumbär Gummibärchen         2\n",
       "13         Mozzarella di Giovanni         3\n",
       "14            Scottish Longbreads         3\n",
       "15            Scottish Longbreads         3\n",
       "16                    Fløtemysost         3\n",
       "17         Mozzarella di Giovanni         4\n",
       "18                 Steeleye Stout         4\n",
       "19         Gnocchi di nonna Alice         4\n",
       "20              Rössle Sauerkraut         4"
      ]
     },
     "execution_count": 142,
     "metadata": {},
     "output_type": "execute_result"
    }
   ],
   "source": [
    "Viz = df2.head(21)\n",
    "\n",
    "Viz"
   ]
  },
  {
   "cell_type": "code",
   "execution_count": 151,
   "id": "35871610",
   "metadata": {},
   "outputs": [
    {
     "data": {
      "image/png": "[encoded data removed]",
      "text/plain": [
       "<Figure size 640x480 with 1 Axes>"
      ]
     },
     "metadata": {},
     "output_type": "display_data"
    }
   ],
   "source": [
    "df2.plot.bar(x=\"ProductName\", y=\"Quantity\", color= 'red')\n",
    "ax.set_title('Least Desirable Products')\n",
    "ax.set_xlabel('ProductName')\n",
    "ax.set_ylabel('Quantity')\n",
    "\n",
    "plt.xticks(rotation=90)\n",
    "fig.savefig('Bottom 20')\n",
    "fig.tight_layout()"
   ]
  },
  {
   "cell_type": "markdown",
   "id": "faab5e1c",
   "metadata": {},
   "source": [
    "### Question 5 : Least Popular Products by Revenue\n",
    "\n",
    "What are the least popular products by **total revenue** (order quantity * price)? Sort this table in ascending order and be sure to include the product name in your output and visualizations.\n",
    "\n",
    "**Hint**: You will have to perform a join to calculate this answer."
   ]
  },
  {
   "cell_type": "code",
   "execution_count": null,
   "id": "2d84d2b4",
   "metadata": {},
   "outputs": [],
   "source": [
    "# TODO: Write a SQL query which will answer the question above.\n",
    "...\n",
    "\n",
    "# TODO: Fetch your list of tuples and print it out\n",
    "..."
   ]
  },
  {
   "cell_type": "code",
   "execution_count": null,
   "id": "d22296d4",
   "metadata": {},
   "outputs": [],
   "source": [
    "# TODO: Convert your list of tuples to a dataframe\n",
    "...\n",
    "\n",
    "# TODO: Generate a visualization on this dataframe\n",
    "..."
   ]
  },
  {
   "cell_type": "markdown",
   "id": "81d0606f",
   "metadata": {},
   "source": [
    "### Question 6 : Countries with the Most Orders\n",
    "\n",
    "Which country's have placed the most orders? For each country, list its' name in your output and visualizations.\n",
    "\n",
    "**Hint**: You will have to perform a join to calculate this answer."
   ]
  },
  {
   "cell_type": "code",
   "execution_count": null,
   "id": "548ba970",
   "metadata": {},
   "outputs": [],
   "source": [
    "# TODO: Write a SQL query which will answer the question above.\n",
    "...\n",
    "\n",
    "# TODO: Fetch your list of tuples and print it out\n",
    "..."
   ]
  },
  {
   "cell_type": "code",
   "execution_count": null,
   "id": "a825aa06",
   "metadata": {},
   "outputs": [],
   "source": [
    "# TODO: Convert your list of tuples to a dataframe\n",
    "...\n",
    "\n",
    "# TODO: Generate a visualization on this dataframe\n",
    "..."
   ]
  },
  {
   "cell_type": "markdown",
   "id": "72c9b165",
   "metadata": {},
   "source": [
    "### Question 7 : Countries with Customers Who Do Not Order\n",
    "\n",
    "Which countries have at least one customer who has placed **no** orders? Count up the total number of customers who have placed no orders for each respective country. For each country, list its' name in your output and visualizations.\n",
    "\n",
    "**Hint**: A join is necessary. We can also check if a column is `NULL` using the `IS` keyword."
   ]
  },
  {
   "cell_type": "code",
   "execution_count": null,
   "id": "ea327c53",
   "metadata": {},
   "outputs": [],
   "source": [
    "# TODO: Write a SQL query which will answer the question above.\n",
    "...\n",
    "\n",
    "# TODO: Fetch your list of tuples and print it out\n",
    "..."
   ]
  },
  {
   "cell_type": "code",
   "execution_count": null,
   "id": "ba356a26",
   "metadata": {},
   "outputs": [],
   "source": [
    "# TODO: Convert your list of tuples to a dataframe\n",
    "...\n",
    "\n",
    "# TODO: Generate a visualization on this dataframe\n",
    "..."
   ]
  },
  {
   "cell_type": "markdown",
   "id": "679892a1",
   "metadata": {},
   "source": [
    "### Question 8 : Most Popular Suppliers\n",
    "\n",
    "What are the most popular suppliers according to order count? List the supplier names and their number of orders. Sort your output in descending order.\n",
    "\n",
    "**Hint**: You might need to use a subquery to join more than 2 tables together."
   ]
  },
  {
   "cell_type": "code",
   "execution_count": null,
   "id": "0f834d94",
   "metadata": {},
   "outputs": [],
   "source": [
    "# TODO: Write a SQL query which will answer the question above.\n",
    "...\n",
    "\n",
    "# TODO: Fetch your list of tuples and print it out\n",
    "..."
   ]
  },
  {
   "cell_type": "code",
   "execution_count": null,
   "id": "95621abb",
   "metadata": {},
   "outputs": [],
   "source": [
    "# TODO: Convert your list of tuples to a dataframe\n",
    "...\n",
    "\n",
    "# TODO: Generate a visualization on this dataframe\n",
    "..."
   ]
  },
  {
   "cell_type": "markdown",
   "id": "1b48d365",
   "metadata": {},
   "source": [
    "## Report\n",
    "\n",
    "Answer the following analytical questions using numerical evidence."
   ]
  },
  {
   "cell_type": "markdown",
   "id": "8a98935f",
   "metadata": {},
   "source": [
    "### Question 1\n",
    "\n",
    "Which countries have the greatest number of customers? How does this correlate with the number of suppliers by country (i.e. do more customers lead to less or more suppliers)? Which evidence supports your answer?\n",
    "\n",
    "[Answer Here]"
   ]
  },
  {
   "cell_type": "markdown",
   "id": "1b5d6703",
   "metadata": {},
   "source": [
    "### Question 2\n",
    "\n",
    "What is the least popular product by order quantity? How does this correlate with revenue (i.e. do less popular products by quantity lead to less or more revenue)? Which evidence supports your answer?\n",
    "\n",
    "[Answer Here]"
   ]
  },
  {
   "cell_type": "markdown",
   "id": "29c46ddc",
   "metadata": {},
   "source": [
    "### Question 3\n",
    "\n",
    "Which country has the most orders? How does this correlate with the number of customers who do not order (i.e. do countries with more ordering customers have more or less non-ordering customers)? Which evidence supports your answer?\n",
    "\n",
    "[Answer Here]"
   ]
  },
  {
   "cell_type": "markdown",
   "id": "d3b8df87",
   "metadata": {},
   "source": [
    "### Question 4\n",
    "\n",
    "Which supplier has the most orders? Which evidence supports your answer?\n",
    "\n",
    "[Answer Here]"
   ]
  }
 ],
 "metadata": {
  "kernelspec": {
   "display_name": "base",
   "language": "python",
   "name": "python3"
  },
  "language_info": {
   "codemirror_mode": {
    "name": "ipython",
    "version": 3
   },
   "file_extension": ".py",
   "mimetype": "text/x-python",
   "name": "python",
   "nbconvert_exporter": "python",
   "pygments_lexer": "ipython3",
   "version": "3.12.9"
  }
 },
 "nbformat": 4,
 "nbformat_minor": 5
}
